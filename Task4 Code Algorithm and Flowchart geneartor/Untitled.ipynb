{
 "cells": [
  {
   "cell_type": "code",
   "execution_count": 1,
   "metadata": {},
   "outputs": [],
   "source": [
    "import pyflowchart"
   ]
  },
  {
   "cell_type": "code",
   "execution_count": 2,
   "metadata": {},
   "outputs": [
    {
     "name": "stdout",
     "output_type": "stream",
     "text": [
      "st774495454496=>start: start a_pyflow_test\n",
      "op774495454592=>operation: do something\n",
      "cond774495454544=>condition: Yes or No?\n",
      "io774495454640=>inputoutput: output: something...\n",
      "e774495454736=>end: end a_pyflow_test\n",
      "sub774495454928=>subroutine: A Subroutine\n",
      "\n",
      "st774495454496->op774495454592\n",
      "op774495454592->cond774495454544\n",
      "cond774495454544->\n",
      "cond774495454544->\n",
      "cond774495454544(yes)->io774495454640\n",
      "io774495454640->e774495454736\n",
      "cond774495454544(no)->sub774495454928\n",
      "sub774495454928(right)->op774495454592\n",
      "\n"
     ]
    }
   ],
   "source": [
    "from pyflowchart import *\n",
    "\n",
    "st = StartNode('a_pyflow_test')\n",
    "op = OperationNode('do something')\n",
    "cond = ConditionNode('Yes or No?')\n",
    "io = InputOutputNode(InputOutputNode.OUTPUT, 'something...')\n",
    "sub = SubroutineNode('A Subroutine')\n",
    "e = EndNode('a_pyflow_test')\n",
    "\n",
    "# define the direction the connection will leave the node from\n",
    "sub.set_connect_direction(\"right\")\n",
    "\n",
    "st.connect(op)\n",
    "op.connect(cond)\n",
    "cond.connect_yes(io)\n",
    "cond.connect_no(sub)\n",
    "sub.connect(op)\n",
    "io.connect(e)\n",
    "\n",
    "fc = Flowchart(st)\n",
    "print(fc.flowchart())"
   ]
  },
  {
   "cell_type": "code",
   "execution_count": 8,
   "metadata": {},
   "outputs": [],
   "source": [
    "from flowgiston import *\n",
    "import matplotlib.pyplot as plt\n",
    "Base = flowgiston_base(fillcolor='lightblue')\n",
    "class No(Base):\n",
    "    fillcolor = 'Red'\n",
    "    label = 'No'\n",
    "    fontcolor = 'white'\n",
    "    shape = 'octagon'\n",
    "\n",
    "class Note(Base):\n",
    "    fillcolor = 'lightyellow'\n",
    "    style = 'filled,dashed'\n",
    "    shape = 'box'\n",
    "    fontname = 'courier'\n",
    "\n"
   ]
  },
  {
   "cell_type": "code",
   "execution_count": 9,
   "metadata": {},
   "outputs": [],
   "source": [
    "chart = FlowgistonChart(Base)\n",
    "\n"
   ]
  },
  {
   "cell_type": "code",
   "execution_count": 3,
   "metadata": {},
   "outputs": [],
   "source": [
    "f = open(\"demo.txt\",\"w\")"
   ]
  },
  {
   "cell_type": "code",
   "execution_count": 29,
   "metadata": {},
   "outputs": [
    {
     "name": "stdout",
     "output_type": "stream",
     "text": [
      "6.0\n",
      "0\n"
     ]
    }
   ],
   "source": [
    "f = open(\"demo.py\", \"r\")\n",
    "line_count = 0.\n",
    "for line in f:\n",
    "    if line != \"\\n\":\n",
    "        line_count += 1.\n",
    "\n",
    "print(line_count)\n",
    "print(len(f.read()))"
   ]
  },
  {
   "cell_type": "code",
   "execution_count": 2,
   "metadata": {},
   "outputs": [],
   "source": [
    "import csv\n",
    "from tkinter import *\n",
    "from PIL import Image,ImageTk\n",
    "def line0():\n",
    "    print(\"Sumodh c Sabu\")\n",
    "window = Tk()\n",
    "window.title(\"Analysis Code\")\n",
    "window.geometry(\"1000x500\")\n",
    "b2 = ImageTk.PhotoImage(file=\"bg.png\")\n",
    "Label(window,image=b2).place(x=0,y=0,relwidth=1,relheight=1)\n",
    "Label(window,text = \"Analysis Code\",font = (\"Comic sans ms\",18),bg=\"#283593\",fg=\"#FFFFFF\").grid(row=0,column=20)\n",
    "Button(window,text=\"Get Country list\",font = (\"Comic sans ms\",8),command=line0,bg=\"#FF0000\").grid(row=1,column=0)\n",
    "\n",
    "window.mainloop()"
   ]
  },
  {
   "cell_type": "code",
   "execution_count": 1,
   "metadata": {},
   "outputs": [
    {
     "name": "stdout",
     "output_type": "stream",
     "text": [
      "op914606612544=>operation: n = int(input())\n",
      "op914606612592=>operation: m = int(input())\n",
      "cond914606612688=>condition: if (n > m)\n",
      "sub914606612784=>subroutine: print(n)\n",
      "sub914606612928=>subroutine: print(m)\n",
      "\n",
      "op914606612544->op914606612592\n",
      "op914606612592->cond914606612688\n",
      "cond914606612688(yes)->sub914606612784\n",
      "cond914606612688(no)->sub914606612928\n",
      "\n"
     ]
    }
   ],
   "source": [
    "from pyflowchart import Flowchart\n",
    "with open('demo.py') as f:\n",
    "     code = f.read()\n",
    "fc = Flowchart.from_code(code)\n",
    "print(fc.flowchart())"
   ]
  },
  {
   "cell_type": "code",
   "execution_count": 7,
   "metadata": {},
   "outputs": [
    {
     "data": {
      "text/plain": [
       "True"
      ]
     },
     "execution_count": 7,
     "metadata": {},
     "output_type": "execute_result"
    }
   ],
   "source": [
    "import webbrowser as ww\n",
    "ww.open(\"http://flowchart.js.org/\")"
   ]
  },
  {
   "cell_type": "code",
   "execution_count": 3,
   "metadata": {},
   "outputs": [],
   "source": [
    "from tkinter import *\n",
    "from PIL import Image,ImageTk\n",
    "from pyflowchart import Flowchart\n",
    "\n",
    "def line0():\n",
    "    f = open(\"demo.py\", \"r\")\n",
    "    Label(frame1,text=f.read(),font=(\"Comic Sans MS\",13),fg=\"black\",bg=\"white\").grid(row=1,column=0)\n",
    "    \n",
    "    \n",
    "    \n",
    "def line1():\n",
    "    with open('demo.py') as f:\n",
    "        code = f.read()\n",
    "        fc = Flowchart.from_code(code)\n",
    "        print(fc.flowchart())\n",
    "window = Tk()\n",
    "window.title(\"Analysis Code\")\n",
    "window.geometry(\"1350x700+0+0\")\n",
    "window.configure(bg=\"#0000FF\")\n",
    "#Label(window,image=b2).place(x=0,y=0,relwidth=1,relheight=1)\n",
    "Label(window,text=\"Analyzing Code \",font=(\"Comic Sans MS\",18),fg=\"green\",bg=\"white\").pack(side=TOP,fil=X)\n",
    "frame1 = Frame(window,bg=\"white\")\n",
    "frame1.place(x=10,y=50,width=400,height=640)\n",
    "Button(frame1,text=\"Code\",height=1,width = 33,font = (\"Comic sans ms\",15),command=line0,bg=\"#FF0000\").grid(row=0,column=0)\n",
    "\n",
    "window.mainloop()"
   ]
  },
  {
   "cell_type": "code",
   "execution_count": 85,
   "metadata": {},
   "outputs": [
    {
     "name": "stdout",
     "output_type": "stream",
     "text": [
      "Linear: time = 0.021 + 1.5E-05*n (sec)\n"
     ]
    }
   ],
   "source": [
    "import big_o\n",
    "def find_max(x):\n",
    "    max_ = 0\n",
    "    for el in x:\n",
    "        if el > max_:\n",
    "             max_ = el\n",
    "\n",
    "    return max_\n",
    "\n",
    "positive_int_generator = lambda n: big_o.datagen.integers(n, 0, 10000)\n",
    "best, others = big_o.big_o(find_max, positive_int_generator, n_repeats=100)\n",
    "print(best)"
   ]
  },
  {
   "cell_type": "code",
   "execution_count": 16,
   "metadata": {},
   "outputs": [
    {
     "name": "stdout",
     "output_type": "stream",
     "text": [
      "from tkinter import *\n",
      "from PIL import Image,ImageTk\n",
      "from pyflowchart import Flowchart\n",
      "\n",
      "def line0():\n",
      "    f = open(\"demo.py\", \"r\")\n",
      "    Label(frame1,text=f.read(),font=(\"Comic Sans MS\",13),fg=\"black\",bg=\"white\").grid(row=1,column=0)\n",
      "    \n",
      "    \n",
      "    \n",
      "def line1():\n",
      "    with open('demo.py') as f:\n",
      "        code = f.read()\n",
      "        fc = Flowchart.from_code(code)\n",
      "        print(fc.flowchart())\n",
      "window = Tk()\n",
      "window.title(\"Analysis Code\")\n",
      "window.geometry(\"1350x700+0+0\")\n",
      "window.configure(bg=\"#0000FF\")\n",
      "#Label(window,image=b2).place(x=0,y=0,relwidth=1,relheight=1)\n",
      "Label(window,text=\"Analyzing Code \",font=(\"Comic Sans MS\",18),fg=\"green\",bg=\"white\").pack(side=TOP,fil=X)\n",
      "frame1 = Frame(window,bg=\"white\")\n",
      "frame1.place(x=10,y=50,width=400,height=640)\n",
      "Button(frame1,text=\"Code\",height=1,width = 33,font = (\"Comic sans ms\",15),command=line0,bg=\"#FF0000\").grid(row=0,column=0)\n",
      "\n",
      "window.mainloop()\n"
     ]
    }
   ],
   "source": [
    "f =open(\"demo.py\",\"r\")\n",
    "print(f.read())"
   ]
  },
  {
   "cell_type": "code",
   "execution_count": 17,
   "metadata": {},
   "outputs": [
    {
     "name": "stdout",
     "output_type": "stream",
     "text": [
      "         214 function calls (207 primitive calls) in 0.001 seconds\n",
      "\n",
      "   Ordered by: standard name\n",
      "\n",
      "   ncalls  tottime  percall  cumtime  percall filename:lineno(function)\n",
      "        1    0.000    0.000    0.001    0.001 <string>:1(<module>)\n",
      "        2    0.000    0.000    0.000    0.000 enum.py:283(__call__)\n",
      "        2    0.000    0.000    0.000    0.000 enum.py:562(__new__)\n",
      "        1    0.000    0.000    0.000    0.000 enum.py:833(__and__)\n",
      "        1    0.000    0.000    0.001    0.001 re.py:250(compile)\n",
      "        1    0.000    0.000    0.001    0.001 re.py:289(_compile)\n",
      "        1    0.000    0.000    0.000    0.000 sre_compile.py:249(_compile_charset)\n",
      "        1    0.000    0.000    0.000    0.000 sre_compile.py:276(_optimize_charset)\n",
      "        2    0.000    0.000    0.000    0.000 sre_compile.py:453(_get_iscased)\n",
      "        1    0.000    0.000    0.000    0.000 sre_compile.py:461(_get_literal_prefix)\n",
      "        1    0.000    0.000    0.000    0.000 sre_compile.py:492(_get_charset_prefix)\n",
      "        1    0.000    0.000    0.000    0.000 sre_compile.py:536(_compile_info)\n",
      "        2    0.000    0.000    0.000    0.000 sre_compile.py:595(isstring)\n",
      "        1    0.000    0.000    0.000    0.000 sre_compile.py:598(_code)\n",
      "      3/1    0.000    0.000    0.000    0.000 sre_compile.py:71(_compile)\n",
      "        1    0.000    0.000    0.001    0.001 sre_compile.py:759(compile)\n",
      "        3    0.000    0.000    0.000    0.000 sre_parse.py:111(__init__)\n",
      "        7    0.000    0.000    0.000    0.000 sre_parse.py:160(__len__)\n",
      "       18    0.000    0.000    0.000    0.000 sre_parse.py:164(__getitem__)\n",
      "        7    0.000    0.000    0.000    0.000 sre_parse.py:172(append)\n",
      "      3/1    0.000    0.000    0.000    0.000 sre_parse.py:174(getwidth)\n",
      "        1    0.000    0.000    0.000    0.000 sre_parse.py:224(__init__)\n",
      "        8    0.000    0.000    0.000    0.000 sre_parse.py:233(__next)\n",
      "        2    0.000    0.000    0.000    0.000 sre_parse.py:249(match)\n",
      "        6    0.000    0.000    0.000    0.000 sre_parse.py:254(get)\n",
      "        1    0.000    0.000    0.000    0.000 sre_parse.py:286(tell)\n",
      "        1    0.000    0.000    0.000    0.000 sre_parse.py:435(_parse_sub)\n",
      "        2    0.000    0.000    0.000    0.000 sre_parse.py:493(_parse)\n",
      "        1    0.000    0.000    0.000    0.000 sre_parse.py:76(__init__)\n",
      "        2    0.000    0.000    0.000    0.000 sre_parse.py:81(groups)\n",
      "        1    0.000    0.000    0.000    0.000 sre_parse.py:921(fix_flags)\n",
      "        1    0.000    0.000    0.000    0.000 sre_parse.py:937(parse)\n",
      "        1    0.000    0.000    0.000    0.000 {built-in method _sre.compile}\n",
      "        1    0.000    0.000    0.001    0.001 {built-in method builtins.exec}\n",
      "       25    0.000    0.000    0.000    0.000 {built-in method builtins.isinstance}\n",
      "    29/26    0.000    0.000    0.000    0.000 {built-in method builtins.len}\n",
      "        2    0.000    0.000    0.000    0.000 {built-in method builtins.max}\n",
      "        9    0.000    0.000    0.000    0.000 {built-in method builtins.min}\n",
      "        6    0.000    0.000    0.000    0.000 {built-in method builtins.ord}\n",
      "       48    0.000    0.000    0.000    0.000 {method 'append' of 'list' objects}\n",
      "        1    0.000    0.000    0.000    0.000 {method 'disable' of '_lsprof.Profiler' objects}\n",
      "        5    0.000    0.000    0.000    0.000 {method 'find' of 'bytearray' objects}\n",
      "        1    0.000    0.000    0.000    0.000 {method 'items' of 'dict' objects}\n",
      "\n",
      "\n"
     ]
    }
   ],
   "source": [
    "import cProfile\n",
    "import re\n",
    "cProfile.run('re.compile(\"foo|bar\")')"
   ]
  },
  {
   "cell_type": "code",
   "execution_count": 19,
   "metadata": {},
   "outputs": [
    {
     "name": "stdout",
     "output_type": "stream",
     "text": [
      "3\n"
     ]
    }
   ],
   "source": [
    "import pylint\n",
    "a = 1\n",
    "b = 2\n",
    "print(a + b)\n"
   ]
  },
  {
   "cell_type": "code",
   "execution_count": 20,
   "metadata": {},
   "outputs": [
    {
     "data": {
      "text/plain": [
       "<module 'pylint' from 'C:\\\\Users\\\\nice\\\\AppData\\\\Roaming\\\\Python\\\\Python38\\\\site-packages\\\\pylint\\\\__init__.py'>"
      ]
     },
     "execution_count": 20,
     "metadata": {},
     "output_type": "execute_result"
    }
   ],
   "source": [
    "pylint "
   ]
  },
  {
   "cell_type": "code",
   "execution_count": null,
   "metadata": {},
   "outputs": [],
   "source": []
  }
 ],
 "metadata": {
  "kernelspec": {
   "display_name": "Python 3",
   "language": "python",
   "name": "python3"
  },
  "language_info": {
   "codemirror_mode": {
    "name": "ipython",
    "version": 3
   },
   "file_extension": ".py",
   "mimetype": "text/x-python",
   "name": "python",
   "nbconvert_exporter": "python",
   "pygments_lexer": "ipython3",
   "version": "3.8.5"
  }
 },
 "nbformat": 4,
 "nbformat_minor": 4
}
