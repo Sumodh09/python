{
 "cells": [
  {
   "cell_type": "code",
   "execution_count": 4,
   "metadata": {},
   "outputs": [],
   "source": [
    "from tkinter import *\n",
    "import requests \n",
    "import pandas as pd\n",
    "import numpy as np\n",
    "from bs4 import BeautifulSoup \n",
    "import datetime as dt\n",
    "import time"
   ]
  },
  {
   "cell_type": "code",
   "execution_count": 5,
   "metadata": {},
   "outputs": [],
   "source": [
    "def data_live_():\n",
    "    url = \"https://www.worldometers.info/coronavirus/#countries\"\n",
    "    html_page = requests.get(url).text\n",
    "    \n",
    "    soup = BeautifulSoup(html_page,\"lxml\")\n",
    "    \n",
    "    get_table = soup.find(\"table\",id=\"main_table_countries_today\")\n",
    "    get_table_data = get_table.tbody.find_all(\"tr\")\n",
    "    \n",
    "    dic = {}\n",
    "    y = 8\n",
    "    for i in range(len(get_table_data)):\n",
    "        try:\n",
    "            key = get_table_data[i].find_all(\"a\",href = True)\n",
    "        except:\n",
    "            key = get_table_data[i].find_all(\"td\")\n",
    "   \n",
    "        value = [j.string for j in get_table_data[i].find_all(\"td\")] \n",
    "        if key!=[]:\n",
    "            dic[key[0].string] = value\n",
    "      \n",
    "\n",
    "\n",
    "    \n",
    "    #column_name = [\"Country\",\"Total Cases\",\"New Case\",\"Total deaths\",\"New Deaths\",\"Total recovery\",\"Active csae\",\"Serious Cases\",\n",
    "      #        \"Total case/1 m p\",\"Death case/1 m p\",\"Total test\",\"Total test/1 m p\",\"Population\"]\n",
    "    df = pd.DataFrame(dic).iloc[1:,:].T.iloc[:,:13]\n",
    "\n",
    "\n",
    "    df.index_name = \"Country\"\n",
    "    #df.columns = column_name\n",
    "    #except:\n",
    "     #   key = get_table_data[i].find_all(\"td\")\n",
    "    \n",
    "    #value = [j.string for j in get_table_data[i].find_all(\"td\")] \n",
    "   # if key!=[]:\n",
    "     #   print(key)\n",
    "    \n",
    "    #df.to_csv(\"Corona_live_data.csv\")\n",
    "    date_time = time.ctime()\n",
    "    print(\"The Live stream data is collected successfully in the related files\")\n",
    "    print(\"And the live data is there till = \",date_time)\n",
    "    print(\"\\n\")\n",
    "   "
   ]
  },
  {
   "cell_type": "code",
   "execution_count": null,
   "metadata": {},
   "outputs": [
    {
     "name": "stdout",
     "output_type": "stream",
     "text": [
      "The Live stream data is collected successfully in the related files\n",
      "And the live data is there till =  Sat Jun  6 21:23:02 2020\n",
      "\n",
      "\n",
      "The Live stream data is collected successfully in the related files\n",
      "And the live data is there till =  Sat Jun  6 21:23:12 2020\n",
      "\n",
      "\n"
     ]
    }
   ],
   "source": [
    "import schedule as sc\n",
    "import time\n",
    "def ss():\n",
    "    print(\"Sumodh C Sabu is great\")\n",
    "    \n",
    "    \n",
    "sc.every(5).seconds.do(data_live_)\n",
    "\n",
    "while 1:\n",
    "    sc.run_pending()\n",
    "    time.sleep(1)"
   ]
  },
  {
   "cell_type": "code",
   "execution_count": 17,
   "metadata": {},
   "outputs": [
    {
     "data": {
      "image/png": "[encoded data removed]",
      "text/plain": [
       "<Figure size 432x288 with 1 Axes>"
      ]
     },
     "metadata": {
      "needs_background": "light"
     },
     "output_type": "display_data"
    }
   ],
   "source": [
    "import matplotlib.pyplot as plt\n",
    "from tkinter import *\n",
    "\n",
    "def graph():\n",
    "    plt.plot([5,2,3,4],[5,3,4,2])\n",
    "    plt.show()\n",
    "\n",
    "window = Tk()\n",
    "window.geometry(\"100x100\")\n",
    "window.title(\"Geometry\")\n",
    "#Label(window,text=plt.show())\n",
    "Button(window,text=\"click\",command=graph).grid(row=0,column=1)\n",
    "window.mainloop()"
   ]
  },
  {
   "cell_type": "code",
   "execution_count": null,
   "metadata": {},
   "outputs": [
    {
     "name": "stdout",
     "output_type": "stream",
     "text": [
      "['12:13:27']\n",
      "['12:13:31']\n",
      "['12:13:35']\n",
      "['12:13:39']\n",
      "['12:13:43']\n",
      "['12:13:47']\n"
     ]
    }
   ],
   "source": [
    "import csv\n",
    "import time\n",
    "import schedule as sc\n",
    "def t():\n",
    "    t = time.ctime()\n",
    "    g = t.split()    \n",
    "    return g[3]\n",
    "\n",
    "def pr():\n",
    "    with open(\"Corona_live_data.csv\",\"r\") as csv_file:\n",
    "        csv_read = csv.reader(csv_file)\n",
    "        i = []\n",
    "        for line in csv_read:\n",
    "            i.append(line[2])\n",
    "            \n",
    "    \n",
    "    return i[1]\n",
    "\n",
    "def prt():\n",
    "    w = []\n",
    "    i = 0\n",
    "    w.append(t())\n",
    "    print(w)\n",
    "        \n",
    "sc.every(4).seconds.do(prt)\n",
    "while 1:\n",
    "    sc.run_pending()\n",
    "    time.sleep(1)\n",
    "sc.every(4).seconds.do(prt)\n",
    "while 1:\n",
    "    sc.run_pending()\n",
    "    time.sleep(1)\n"
   ]
  },
  {
   "cell_type": "code",
   "execution_count": null,
   "metadata": {},
   "outputs": [],
   "source": [
    "from tkinter import *\n",
    "import requests \n",
    "import pandas as pd\n",
    "import numpy as np\n",
    "from bs4 import BeautifulSoup \n",
    "import datetime as dt\n",
    "import time"
   ]
  },
  {
   "cell_type": "code",
   "execution_count": 1,
   "metadata": {},
   "outputs": [],
   "source": [
    "import csv\n",
    "import time\n",
    "import schedule as sc\n",
    "import matplotlib.pyplot as plt\n"
   ]
  },
  {
   "cell_type": "code",
   "execution_count": 2,
   "metadata": {},
   "outputs": [
    {
     "data": {
      "image/png": "[encoded data removed]",
      "text/plain": [
       "<Figure size 432x288 with 1 Axes>"
      ]
     },
     "metadata": {
      "needs_background": "light"
     },
     "output_type": "display_data"
    }
   ],
   "source": [
    "\n",
    "plt.plot([\"day1\",\"day2\",\"day3\",\"day4\",\"day5\",\"day6\"],[146345,156345,166345,176345,186345,196345])   \n",
    "plt.show() \n"
   ]
  },
  {
   "cell_type": "code",
   "execution_count": 3,
   "metadata": {},
   "outputs": [],
   "source": [
    "import pyqrcode \n",
    "from pyqrcode import QRCode  \n",
    "s = \"http://localhost:8888/tree\"\n",
    "url = pyqrcode.create(s) \n",
    "url.svg(\"myqr.svg\", scale = 8)"
   ]
  },
  {
   "cell_type": "code",
   "execution_count": null,
   "metadata": {},
   "outputs": [],
   "source": [
    "import csv\n",
    "import time\n",
    "import schedule as sc\n",
    "import matplotlib.pyplot as plt\n",
    "\n",
    "\n",
    "def ss():\n",
    "    with open(\"Corona_live_data.csv\",\"r\") as csv_file:\n",
    "        csv_read = csv.reader(csv_file)\n",
    "        i =[]\n",
    "        x =[]\n",
    "        r =[]\n",
    "        def t():\n",
    "            for line in csv_read:\n",
    "                i.append(line[2]) \n",
    "            if x != []:\n",
    "                x.append(i[1])\n",
    "            else:\n",
    "                x = i[1]\n",
    "\n",
    "            t = time.ctime()\n",
    "            g = t.split()\n",
    "            if r != []:\n",
    "                r.append(g[3])\n",
    "            else:\n",
    "                r = g[3]\n",
    "\n",
    "            plt.plot([x],[r])\n",
    "\n",
    "            plt.show()\n",
    "            print(x,r)\n",
    "    sc.every(5).seconds.do(t)\n",
    "            \n",
    "\n",
    "    \n",
    "ss()\n",
    "\n",
    "while 1:\n",
    "    sc.run_pending()\n",
    "    time.sleep(1)"
   ]
  },
  {
   "cell_type": "code",
   "execution_count": 5,
   "metadata": {},
   "outputs": [
    {
     "name": "stdout",
     "output_type": "stream",
     "text": [
      "__main__\n"
     ]
    }
   ],
   "source": [
    "print(__name__)"
   ]
  },
  {
   "cell_type": "code",
   "execution_count": null,
   "metadata": {},
   "outputs": [],
   "source": []
  }
 ],
 "metadata": {
  "kernelspec": {
   "display_name": "Python 3",
   "language": "python",
   "name": "python3"
  },
  "language_info": {
   "codemirror_mode": {
    "name": "ipython",
    "version": 3
   },
   "file_extension": ".py",
   "mimetype": "text/x-python",
   "name": "python",
   "nbconvert_exporter": "python",
   "pygments_lexer": "ipython3",
   "version": "3.7.6"
  }
 },
 "nbformat": 4,
 "nbformat_minor": 2
}
