{
 "cells": [
  {
   "cell_type": "code",
   "execution_count": 126,
   "metadata": {},
   "outputs": [],
   "source": [
    "r = !python -m tokenize fibonacci3.java"
   ]
  },
  {
   "cell_type": "code",
   "execution_count": 127,
   "metadata": {},
   "outputs": [
    {
     "data": {
      "text/plain": [
       "[\"0,0-0,0:            ENCODING       'utf-8'        \",\n",
       " \"1,0-1,5:            NAME           'class'        \",\n",
       " \"1,6-1,12:           NAME           'parent'       \",\n",
       " \"1,12-1,13:          OP             '{'            \",\n",
       " \"1,13-1,15:          NL             '\\\\r\\\\n'         \",\n",
       " \"2,1-2,5:            NAME           'void'         \",\n",
       " \"2,6-2,12:           NAME           'parent'       \",\n",
       " \"2,12-2,13:          OP             '('            \",\n",
       " \"2,13-2,14:          OP             ')'            \",\n",
       " \"2,14-2,15:          OP             '{'            \",\n",
       " \"2,15-2,16:          OP             '}'            \",\n",
       " \"2,16-2,18:          NL             '\\\\r\\\\n'         \",\n",
       " \"3,0-3,1:            OP             '}'            \",\n",
       " \"3,1-3,3:            NEWLINE        '\\\\r\\\\n'         \",\n",
       " \"4,0-4,5:            NAME           'class'        \",\n",
       " \"4,6-4,15:           NAME           'fibonacci'    \",\n",
       " \"4,16-4,23:          NAME           'extends'      \",\n",
       " \"4,24-4,30:          NAME           'parent'       \",\n",
       " \"4,30-4,31:          OP             '{'            \",\n",
       " \"4,33-4,35:          NL             '\\\\r\\\\n'         \",\n",
       " \"5,1-5,5:            NAME           'void'         \",\n",
       " \"5,6-5,15:           NAME           'fibonacci'    \",\n",
       " \"5,15-5,16:          OP             '('            \",\n",
       " \"5,16-5,17:          OP             ')'            \",\n",
       " \"5,17-5,18:          OP             '{'            \",\n",
       " \"5,18-5,19:          OP             '}'            \",\n",
       " \"5,19-5,21:          NL             '\\\\r\\\\n'         \",\n",
       " \"6,1-6,7:            NAME           'static'       \",\n",
       " \"6,8-6,11:           NAME           'int'          \",\n",
       " \"6,12-6,14:          NAME           'n1'           \",\n",
       " \"6,14-6,15:          OP             '='            \",\n",
       " \"6,15-6,16:          NUMBER         '0'            \",\n",
       " \"6,16-6,17:          OP             ','            \",\n",
       " \"6,17-6,19:          NAME           'n2'           \",\n",
       " \"6,19-6,20:          OP             '='            \",\n",
       " \"6,20-6,21:          NUMBER         '1'            \",\n",
       " \"6,21-6,22:          OP             ','            \",\n",
       " \"6,22-6,24:          NAME           'n3'           \",\n",
       " \"6,24-6,25:          OP             '='            \",\n",
       " \"6,25-6,26:          NUMBER         '0'            \",\n",
       " \"6,26-6,27:          OP             ';'            \",\n",
       " \"6,31-6,33:          NL             '\\\\r\\\\n'         \",\n",
       " \"7,1-7,7:            NAME           'static'       \",\n",
       " \"7,8-7,12:           NAME           'void'         \",\n",
       " \"7,13-7,27:          NAME           'printFibonacci'\",\n",
       " \"7,27-7,28:          OP             '('            \",\n",
       " \"7,28-7,31:          NAME           'int'          \",\n",
       " \"7,32-7,37:          NAME           'count'        \",\n",
       " \"7,37-7,38:          OP             ')'            \",\n",
       " \"7,38-7,39:          OP             '{'            \",\n",
       " \"7,43-7,45:          NL             '\\\\r\\\\n'         \",\n",
       " \"8,4-8,6:            NAME           'if'           \",\n",
       " \"8,6-8,7:            OP             '('            \",\n",
       " \"8,7-8,12:           NAME           'count'        \",\n",
       " \"8,12-8,13:          OP             '>'            \",\n",
       " \"8,13-8,14:          NUMBER         '0'            \",\n",
       " \"8,14-8,15:          OP             ')'            \",\n",
       " \"8,15-8,16:          OP             '{'            \",\n",
       " \"8,20-8,22:          NL             '\\\\r\\\\n'         \",\n",
       " \"9,9-9,11:           NAME           'n3'           \",\n",
       " \"9,12-9,13:          OP             '='            \",\n",
       " \"9,14-9,16:          NAME           'n1'           \",\n",
       " \"9,17-9,18:          OP             '+'            \",\n",
       " \"9,19-9,21:          NAME           'n2'           \",\n",
       " \"9,21-9,22:          OP             ';'            \",\n",
       " \"9,26-9,28:          NL             '\\\\r\\\\n'         \",\n",
       " \"10,9-10,11:         NAME           'n1'           \",\n",
       " \"10,12-10,13:        OP             '='            \",\n",
       " \"10,14-10,16:        NAME           'n2'           \",\n",
       " \"10,16-10,17:        OP             ';'            \",\n",
       " \"10,21-10,23:        NL             '\\\\r\\\\n'         \",\n",
       " \"11,9-11,11:         NAME           'n2'           \",\n",
       " \"11,12-11,13:        OP             '='            \",\n",
       " \"11,14-11,16:        NAME           'n3'           \",\n",
       " \"11,16-11,17:        OP             ';'            \",\n",
       " \"11,21-11,23:        NL             '\\\\r\\\\n'         \",\n",
       " \"12,9-12,15:         NAME           'System'       \",\n",
       " \"12,15-12,16:        OP             '.'            \",\n",
       " \"12,16-12,19:        NAME           'out'          \",\n",
       " \"12,19-12,20:        OP             '.'            \",\n",
       " \"12,20-12,25:        NAME           'print'        \",\n",
       " \"12,25-12,26:        OP             '('            \",\n",
       " '12,26-12,29:        STRING         \\'\" \"\\'          ',\n",
       " \"12,29-12,30:        OP             '+'            \",\n",
       " \"12,30-12,32:        NAME           'n3'           \",\n",
       " \"12,32-12,33:        OP             ')'            \",\n",
       " \"12,33-12,34:        OP             ';'            \",\n",
       " \"12,37-12,39:        NL             '\\\\r\\\\n'         \",\n",
       " \"13,9-13,23:         NAME           'printFibonacci'\",\n",
       " \"13,23-13,24:        OP             '('            \",\n",
       " \"13,24-13,29:        NAME           'count'        \",\n",
       " \"13,29-13,30:        OP             '-'            \",\n",
       " \"13,30-13,31:        NUMBER         '1'            \",\n",
       " \"13,31-13,32:        OP             ')'            \",\n",
       " \"13,32-13,33:        OP             ';'            \",\n",
       " \"13,37-13,39:        NL             '\\\\r\\\\n'         \",\n",
       " \"14,5-14,6:          OP             '}'            \",\n",
       " \"14,10-14,12:        NL             '\\\\r\\\\n'         \",\n",
       " \"15,1-15,2:          OP             '}'            \",\n",
       " \"15,2-15,4:          NL             '\\\\r\\\\n'         \",\n",
       " \"16,0-16,1:          OP             '}'            \",\n",
       " \"16,1-16,3:          NEWLINE        '\\\\r\\\\n'         \",\n",
       " \"17,0-17,6:          NAME           'public'       \",\n",
       " \"17,7-17,12:         NAME           'class'        \",\n",
       " \"17,13-17,23:        NAME           'fibonacci3'   \",\n",
       " \"17,23-17,24:        OP             '{'            \",\n",
       " \"17,28-17,30:        NL             '\\\\r\\\\n'         \",\n",
       " \"18,1-18,7:          NAME           'public'       \",\n",
       " \"18,8-18,14:         NAME           'static'       \",\n",
       " \"18,15-18,19:        NAME           'void'         \",\n",
       " \"18,20-18,24:        NAME           'main'         \",\n",
       " \"18,24-18,25:        OP             '('            \",\n",
       " \"18,25-18,31:        NAME           'String'       \",\n",
       " \"18,32-18,36:        NAME           'args'         \",\n",
       " \"18,36-18,37:        OP             '['            \",\n",
       " \"18,37-18,38:        OP             ']'            \",\n",
       " \"18,38-18,39:        OP             ')'            \",\n",
       " \"18,39-18,40:        OP             '{'            \",\n",
       " \"18,44-18,46:        NL             '\\\\r\\\\n'         \",\n",
       " \"19,2-19,11:         NAME           'fibonacci'    \",\n",
       " \"19,12-19,16:        NAME           'obj1'         \",\n",
       " \"19,17-19,18:        OP             '='            \",\n",
       " \"19,19-19,22:        NAME           'new'          \",\n",
       " \"19,23-19,32:        NAME           'fibonacci'    \",\n",
       " \"19,32-19,33:        OP             '('            \",\n",
       " \"19,33-19,34:        OP             ')'            \",\n",
       " \"19,34-19,35:        OP             ';'            \",\n",
       " \"19,35-19,37:        NL             '\\\\r\\\\n'         \",\n",
       " \"20,2-20,5:          NAME           'int'          \",\n",
       " \"20,6-20,11:         NAME           'count'        \",\n",
       " \"20,11-20,12:        OP             '='            \",\n",
       " \"20,12-20,14:        NUMBER         '10'           \",\n",
       " \"20,14-20,15:        OP             ';'            \",\n",
       " \"20,19-20,21:        NL             '\\\\r\\\\n'         \",\n",
       " \"21,2-21,8:          NAME           'System'       \",\n",
       " \"21,8-21,9:          OP             '.'            \",\n",
       " \"21,9-21,12:         NAME           'out'          \",\n",
       " \"21,12-21,13:        OP             '.'            \",\n",
       " \"21,13-21,18:        NAME           'print'        \",\n",
       " \"21,18-21,19:        OP             '('            \",\n",
       " \"21,19-21,23:        NAME           'obj1'         \",\n",
       " \"21,23-21,24:        OP             '.'            \",\n",
       " \"21,24-21,26:        NAME           'n1'           \",\n",
       " \"21,26-21,27:        OP             '+'            \",\n",
       " '21,27-21,30:        STRING         \\'\" \"\\'          ',\n",
       " \"21,30-21,31:        OP             '+'            \",\n",
       " \"21,31-21,35:        NAME           'obj1'         \",\n",
       " \"21,35-21,36:        OP             '.'            \",\n",
       " \"21,36-21,38:        NAME           'n2'           \",\n",
       " \"21,38-21,39:        OP             ')'            \",\n",
       " \"21,39-21,40:        OP             ';'            \",\n",
       " \"21,40-21,42:        OP             '//'           \",\n",
       " \"21,42-21,50:        NAME           'printing'     \",\n",
       " \"21,51-21,52:        NUMBER         '0'            \",\n",
       " \"21,53-21,56:        NAME           'and'          \",\n",
       " \"21,57-21,58:        NUMBER         '1'            \",\n",
       " \"21,62-21,64:        NL             '\\\\r\\\\n'         \",\n",
       " \"22,2-22,6:          NAME           'obj1'         \",\n",
       " \"22,6-22,7:          OP             '.'            \",\n",
       " \"22,7-22,21:         NAME           'printFibonacci'\",\n",
       " \"22,21-22,22:        OP             '('            \",\n",
       " \"22,22-22,27:        NAME           'count'        \",\n",
       " \"22,27-22,28:        OP             '-'            \",\n",
       " \"22,28-22,29:        NUMBER         '2'            \",\n",
       " \"22,29-22,30:        OP             ')'            \",\n",
       " \"22,30-22,31:        OP             ';'            \",\n",
       " \"22,31-22,33:        OP             '//'           \",\n",
       " \"22,33-22,34:        NAME           'n'            \",\n",
       " \"22,34-22,35:        OP             '-'            \",\n",
       " \"22,35-22,36:        NUMBER         '2'            \",\n",
       " \"22,37-22,44:        NAME           'because'      \",\n",
       " \"22,45-22,46:        NUMBER         '2'            \",\n",
       " \"22,47-22,54:        NAME           'numbers'      \",\n",
       " \"22,55-22,58:        NAME           'are'          \",\n",
       " \"22,59-22,66:        NAME           'already'      \",\n",
       " \"22,67-22,74:        NAME           'printed'      \",\n",
       " \"22,77-22,79:        NL             '\\\\r\\\\n'         \",\n",
       " \"23,1-23,2:          OP             '}'            \",\n",
       " \"23,4-23,6:          NL             '\\\\r\\\\n'         \",\n",
       " \"24,0-24,1:          OP             '}'            \",\n",
       " \"24,3-24,4:          NEWLINE        ''             \",\n",
       " \"25,0-25,0:          ENDMARKER      ''             \"]"
      ]
     },
     "execution_count": 127,
     "metadata": {},
     "output_type": "execute_result"
    }
   ],
   "source": [
    "r"
   ]
  },
  {
   "cell_type": "code",
   "execution_count": 128,
   "metadata": {},
   "outputs": [],
   "source": [
    "res_key = ['abstract', 'assert', 'boolean', 'break', 'byte', 'case', 'catch', 'char', 'class', 'continue', 'default', 'do', 'double', 'else', 'enum', 'extends', 'final', 'finally', 'float', 'for', 'if', 'implements', 'import', 'instanceof', 'int', 'interface', 'long', 'native', 'new', 'null', 'package', 'private', 'protected', 'public', 'return', 'short', 'static', 'strictfp', 'super', 'switch', 'synchronized', 'this', 'throw', 'throws', 'transient', 'try', 'void', 'volatile', 'while']"
   ]
  },
  {
   "cell_type": "code",
   "execution_count": 129,
   "metadata": {},
   "outputs": [
    {
     "name": "stdout",
     "output_type": "stream",
     "text": [
      "<class 'IPython.utils.text.SList'>\n"
     ]
    }
   ],
   "source": [
    "print(type(r))"
   ]
  },
  {
   "cell_type": "code",
   "execution_count": 130,
   "metadata": {},
   "outputs": [
    {
     "name": "stdout",
     "output_type": "stream",
     "text": [
      "[['0,0-0,0:', 'ENCODING', \"'utf-8'\"], ['1,0-1,5:', 'NAME', \"'class'\"], ['1,6-1,12:', 'NAME', \"'parent'\"], ['1,12-1,13:', 'OP', \"'{'\"], ['1,13-1,15:', 'NL', \"'\\\\r\\\\n'\"], ['2,1-2,5:', 'NAME', \"'void'\"], ['2,6-2,12:', 'NAME', \"'parent'\"], ['2,12-2,13:', 'OP', \"'('\"], ['2,13-2,14:', 'OP', \"')'\"], ['2,14-2,15:', 'OP', \"'{'\"], ['2,15-2,16:', 'OP', \"'}'\"], ['2,16-2,18:', 'NL', \"'\\\\r\\\\n'\"], ['3,0-3,1:', 'OP', \"'}'\"], ['3,1-3,3:', 'NEWLINE', \"'\\\\r\\\\n'\"], ['4,0-4,5:', 'NAME', \"'class'\"], ['4,6-4,15:', 'NAME', \"'fibonacci'\"], ['4,16-4,23:', 'NAME', \"'extends'\"], ['4,24-4,30:', 'NAME', \"'parent'\"], ['4,30-4,31:', 'OP', \"'{'\"], ['4,33-4,35:', 'NL', \"'\\\\r\\\\n'\"], ['5,1-5,5:', 'NAME', \"'void'\"], ['5,6-5,15:', 'NAME', \"'fibonacci'\"], ['5,15-5,16:', 'OP', \"'('\"], ['5,16-5,17:', 'OP', \"')'\"], ['5,17-5,18:', 'OP', \"'{'\"], ['5,18-5,19:', 'OP', \"'}'\"], ['5,19-5,21:', 'NL', \"'\\\\r\\\\n'\"], ['6,1-6,7:', 'NAME', \"'static'\"], ['6,8-6,11:', 'NAME', \"'int'\"], ['6,12-6,14:', 'NAME', \"'n1'\"], ['6,14-6,15:', 'OP', \"'='\"], ['6,15-6,16:', 'NUMBER', \"'0'\"], ['6,16-6,17:', 'OP', \"','\"], ['6,17-6,19:', 'NAME', \"'n2'\"], ['6,19-6,20:', 'OP', \"'='\"], ['6,20-6,21:', 'NUMBER', \"'1'\"], ['6,21-6,22:', 'OP', \"','\"], ['6,22-6,24:', 'NAME', \"'n3'\"], ['6,24-6,25:', 'OP', \"'='\"], ['6,25-6,26:', 'NUMBER', \"'0'\"], ['6,26-6,27:', 'OP', \"';'\"], ['6,31-6,33:', 'NL', \"'\\\\r\\\\n'\"], ['7,1-7,7:', 'NAME', \"'static'\"], ['7,8-7,12:', 'NAME', \"'void'\"], ['7,13-7,27:', 'NAME', \"'printFibonacci'\"], ['7,27-7,28:', 'OP', \"'('\"], ['7,28-7,31:', 'NAME', \"'int'\"], ['7,32-7,37:', 'NAME', \"'count'\"], ['7,37-7,38:', 'OP', \"')'\"], ['7,38-7,39:', 'OP', \"'{'\"], ['7,43-7,45:', 'NL', \"'\\\\r\\\\n'\"], ['8,4-8,6:', 'NAME', \"'if'\"], ['8,6-8,7:', 'OP', \"'('\"], ['8,7-8,12:', 'NAME', \"'count'\"], ['8,12-8,13:', 'OP', \"'>'\"], ['8,13-8,14:', 'NUMBER', \"'0'\"], ['8,14-8,15:', 'OP', \"')'\"], ['8,15-8,16:', 'OP', \"'{'\"], ['8,20-8,22:', 'NL', \"'\\\\r\\\\n'\"], ['9,9-9,11:', 'NAME', \"'n3'\"], ['9,12-9,13:', 'OP', \"'='\"], ['9,14-9,16:', 'NAME', \"'n1'\"], ['9,17-9,18:', 'OP', \"'+'\"], ['9,19-9,21:', 'NAME', \"'n2'\"], ['9,21-9,22:', 'OP', \"';'\"], ['9,26-9,28:', 'NL', \"'\\\\r\\\\n'\"], ['10,9-10,11:', 'NAME', \"'n1'\"], ['10,12-10,13:', 'OP', \"'='\"], ['10,14-10,16:', 'NAME', \"'n2'\"], ['10,16-10,17:', 'OP', \"';'\"], ['10,21-10,23:', 'NL', \"'\\\\r\\\\n'\"], ['11,9-11,11:', 'NAME', \"'n2'\"], ['11,12-11,13:', 'OP', \"'='\"], ['11,14-11,16:', 'NAME', \"'n3'\"], ['11,16-11,17:', 'OP', \"';'\"], ['11,21-11,23:', 'NL', \"'\\\\r\\\\n'\"], ['12,9-12,15:', 'NAME', \"'System'\"], ['12,15-12,16:', 'OP', \"'.'\"], ['12,16-12,19:', 'NAME', \"'out'\"], ['12,19-12,20:', 'OP', \"'.'\"], ['12,20-12,25:', 'NAME', \"'print'\"], ['12,25-12,26:', 'OP', \"'('\"], ['12,26-12,29:', 'STRING', '\\'\"', '\"\\''], ['12,29-12,30:', 'OP', \"'+'\"], ['12,30-12,32:', 'NAME', \"'n3'\"], ['12,32-12,33:', 'OP', \"')'\"], ['12,33-12,34:', 'OP', \"';'\"], ['12,37-12,39:', 'NL', \"'\\\\r\\\\n'\"], ['13,9-13,23:', 'NAME', \"'printFibonacci'\"], ['13,23-13,24:', 'OP', \"'('\"], ['13,24-13,29:', 'NAME', \"'count'\"], ['13,29-13,30:', 'OP', \"'-'\"], ['13,30-13,31:', 'NUMBER', \"'1'\"], ['13,31-13,32:', 'OP', \"')'\"], ['13,32-13,33:', 'OP', \"';'\"], ['13,37-13,39:', 'NL', \"'\\\\r\\\\n'\"], ['14,5-14,6:', 'OP', \"'}'\"], ['14,10-14,12:', 'NL', \"'\\\\r\\\\n'\"], ['15,1-15,2:', 'OP', \"'}'\"], ['15,2-15,4:', 'NL', \"'\\\\r\\\\n'\"], ['16,0-16,1:', 'OP', \"'}'\"], ['16,1-16,3:', 'NEWLINE', \"'\\\\r\\\\n'\"], ['17,0-17,6:', 'NAME', \"'public'\"], ['17,7-17,12:', 'NAME', \"'class'\"], ['17,13-17,23:', 'NAME', \"'fibonacci3'\"], ['17,23-17,24:', 'OP', \"'{'\"], ['17,28-17,30:', 'NL', \"'\\\\r\\\\n'\"], ['18,1-18,7:', 'NAME', \"'public'\"], ['18,8-18,14:', 'NAME', \"'static'\"], ['18,15-18,19:', 'NAME', \"'void'\"], ['18,20-18,24:', 'NAME', \"'main'\"], ['18,24-18,25:', 'OP', \"'('\"], ['18,25-18,31:', 'NAME', \"'String'\"], ['18,32-18,36:', 'NAME', \"'args'\"], ['18,36-18,37:', 'OP', \"'['\"], ['18,37-18,38:', 'OP', \"']'\"], ['18,38-18,39:', 'OP', \"')'\"], ['18,39-18,40:', 'OP', \"'{'\"], ['18,44-18,46:', 'NL', \"'\\\\r\\\\n'\"], ['19,2-19,11:', 'NAME', \"'fibonacci'\"], ['19,12-19,16:', 'NAME', \"'obj1'\"], ['19,17-19,18:', 'OP', \"'='\"], ['19,19-19,22:', 'NAME', \"'new'\"], ['19,23-19,32:', 'NAME', \"'fibonacci'\"], ['19,32-19,33:', 'OP', \"'('\"], ['19,33-19,34:', 'OP', \"')'\"], ['19,34-19,35:', 'OP', \"';'\"], ['19,35-19,37:', 'NL', \"'\\\\r\\\\n'\"], ['20,2-20,5:', 'NAME', \"'int'\"], ['20,6-20,11:', 'NAME', \"'count'\"], ['20,11-20,12:', 'OP', \"'='\"], ['20,12-20,14:', 'NUMBER', \"'10'\"], ['20,14-20,15:', 'OP', \"';'\"], ['20,19-20,21:', 'NL', \"'\\\\r\\\\n'\"], ['21,2-21,8:', 'NAME', \"'System'\"], ['21,8-21,9:', 'OP', \"'.'\"], ['21,9-21,12:', 'NAME', \"'out'\"], ['21,12-21,13:', 'OP', \"'.'\"], ['21,13-21,18:', 'NAME', \"'print'\"], ['21,18-21,19:', 'OP', \"'('\"], ['21,19-21,23:', 'NAME', \"'obj1'\"], ['21,23-21,24:', 'OP', \"'.'\"], ['21,24-21,26:', 'NAME', \"'n1'\"], ['21,26-21,27:', 'OP', \"'+'\"], ['21,27-21,30:', 'STRING', '\\'\"', '\"\\''], ['21,30-21,31:', 'OP', \"'+'\"], ['21,31-21,35:', 'NAME', \"'obj1'\"], ['21,35-21,36:', 'OP', \"'.'\"], ['21,36-21,38:', 'NAME', \"'n2'\"], ['21,38-21,39:', 'OP', \"')'\"], ['21,39-21,40:', 'OP', \"';'\"], ['21,40-21,42:', 'OP', \"'//'\"], ['21,42-21,50:', 'NAME', \"'printing'\"], ['21,51-21,52:', 'NUMBER', \"'0'\"], ['21,53-21,56:', 'NAME', \"'and'\"], ['21,57-21,58:', 'NUMBER', \"'1'\"], ['21,62-21,64:', 'NL', \"'\\\\r\\\\n'\"], ['22,2-22,6:', 'NAME', \"'obj1'\"], ['22,6-22,7:', 'OP', \"'.'\"], ['22,7-22,21:', 'NAME', \"'printFibonacci'\"], ['22,21-22,22:', 'OP', \"'('\"], ['22,22-22,27:', 'NAME', \"'count'\"], ['22,27-22,28:', 'OP', \"'-'\"], ['22,28-22,29:', 'NUMBER', \"'2'\"], ['22,29-22,30:', 'OP', \"')'\"], ['22,30-22,31:', 'OP', \"';'\"], ['22,31-22,33:', 'OP', \"'//'\"], ['22,33-22,34:', 'NAME', \"'n'\"], ['22,34-22,35:', 'OP', \"'-'\"], ['22,35-22,36:', 'NUMBER', \"'2'\"], ['22,37-22,44:', 'NAME', \"'because'\"], ['22,45-22,46:', 'NUMBER', \"'2'\"], ['22,47-22,54:', 'NAME', \"'numbers'\"], ['22,55-22,58:', 'NAME', \"'are'\"], ['22,59-22,66:', 'NAME', \"'already'\"], ['22,67-22,74:', 'NAME', \"'printed'\"], ['22,77-22,79:', 'NL', \"'\\\\r\\\\n'\"], ['23,1-23,2:', 'OP', \"'}'\"], ['23,4-23,6:', 'NL', \"'\\\\r\\\\n'\"], ['24,0-24,1:', 'OP', \"'}'\"], ['24,3-24,4:', 'NEWLINE', \"''\"], ['25,0-25,0:', 'ENDMARKER', \"''\"]]\n"
     ]
    }
   ],
   "source": [
    "f = []\n",
    "for x in r:\n",
    "    f.append(x.split())\n",
    "\n",
    "print(f)"
   ]
  },
  {
   "cell_type": "code",
   "execution_count": 131,
   "metadata": {},
   "outputs": [
    {
     "name": "stdout",
     "output_type": "stream",
     "text": [
      "'class'\n"
     ]
    }
   ],
   "source": [
    "print(f[1][2])"
   ]
  },
  {
   "cell_type": "code",
   "execution_count": 132,
   "metadata": {},
   "outputs": [
    {
     "name": "stdout",
     "output_type": "stream",
     "text": [
      "[\"'utf-8'\", \"'class'\", \"'parent'\", \"'{'\", \"'\\\\r\\\\n'\", \"'void'\", \"'parent'\", \"'('\", \"')'\", \"'{'\", \"'}'\", \"'\\\\r\\\\n'\", \"'}'\", \"'\\\\r\\\\n'\", \"'class'\", \"'fibonacci'\", \"'extends'\", \"'parent'\", \"'{'\", \"'\\\\r\\\\n'\", \"'void'\", \"'fibonacci'\", \"'('\", \"')'\", \"'{'\", \"'}'\", \"'\\\\r\\\\n'\", \"'static'\", \"'int'\", \"'n1'\", \"'='\", \"'0'\", \"','\", \"'n2'\", \"'='\", \"'1'\", \"','\", \"'n3'\", \"'='\", \"'0'\", \"';'\", \"'\\\\r\\\\n'\", \"'static'\", \"'void'\", \"'printFibonacci'\", \"'('\", \"'int'\", \"'count'\", \"')'\", \"'{'\", \"'\\\\r\\\\n'\", \"'if'\", \"'('\", \"'count'\", \"'>'\", \"'0'\", \"')'\", \"'{'\", \"'\\\\r\\\\n'\", \"'n3'\", \"'='\", \"'n1'\", \"'+'\", \"'n2'\", \"';'\", \"'\\\\r\\\\n'\", \"'n1'\", \"'='\", \"'n2'\", \"';'\", \"'\\\\r\\\\n'\", \"'n2'\", \"'='\", \"'n3'\", \"';'\", \"'\\\\r\\\\n'\", \"'System'\", \"'.'\", \"'out'\", \"'.'\", \"'print'\", \"'('\", '\\'\"', \"'+'\", \"'n3'\", \"')'\", \"';'\", \"'\\\\r\\\\n'\", \"'printFibonacci'\", \"'('\", \"'count'\", \"'-'\", \"'1'\", \"')'\", \"';'\", \"'\\\\r\\\\n'\", \"'}'\", \"'\\\\r\\\\n'\", \"'}'\", \"'\\\\r\\\\n'\", \"'}'\", \"'\\\\r\\\\n'\", \"'public'\", \"'class'\", \"'fibonacci3'\", \"'{'\", \"'\\\\r\\\\n'\", \"'public'\", \"'static'\", \"'void'\", \"'main'\", \"'('\", \"'String'\", \"'args'\", \"'['\", \"']'\", \"')'\", \"'{'\", \"'\\\\r\\\\n'\", \"'fibonacci'\", \"'obj1'\", \"'='\", \"'new'\", \"'fibonacci'\", \"'('\", \"')'\", \"';'\", \"'\\\\r\\\\n'\", \"'int'\", \"'count'\", \"'='\", \"'10'\", \"';'\", \"'\\\\r\\\\n'\", \"'System'\", \"'.'\", \"'out'\", \"'.'\", \"'print'\", \"'('\", \"'obj1'\", \"'.'\", \"'n1'\", \"'+'\", '\\'\"', \"'+'\", \"'obj1'\", \"'.'\", \"'n2'\", \"')'\", \"';'\", \"'//'\", \"'printing'\", \"'0'\", \"'and'\", \"'1'\", \"'\\\\r\\\\n'\", \"'obj1'\", \"'.'\", \"'printFibonacci'\", \"'('\", \"'count'\", \"'-'\", \"'2'\", \"')'\", \"';'\", \"'//'\", \"'n'\", \"'-'\", \"'2'\", \"'because'\", \"'2'\", \"'numbers'\", \"'are'\", \"'already'\", \"'printed'\", \"'\\\\r\\\\n'\", \"'}'\", \"'\\\\r\\\\n'\", \"'}'\", \"''\", \"''\"]\n"
     ]
    }
   ],
   "source": [
    "tokens = []\n",
    "for x in range (0, len(f)):\n",
    "    tokens.append(f[x][2])\n",
    "\n",
    "print(tokens)"
   ]
  },
  {
   "cell_type": "code",
   "execution_count": 133,
   "metadata": {},
   "outputs": [
    {
     "name": "stdout",
     "output_type": "stream",
     "text": [
      "'utf-8'\n"
     ]
    }
   ],
   "source": [
    "print(tokens[0])"
   ]
  },
  {
   "cell_type": "code",
   "execution_count": 134,
   "metadata": {},
   "outputs": [
    {
     "name": "stdout",
     "output_type": "stream",
     "text": [
      "The classes in the code are::\n",
      "{\"'parent'\": ['private'], \"'fibonacci'\": ['private'], \"'fibonacci3'\": [\"'public'\"]}\n"
     ]
    }
   ],
   "source": [
    "classes = {}\n",
    "key = ''\n",
    "#classes.setdefault('','private')\n",
    "for i in range (0, len(tokens)):\n",
    "    if tokens[i]==\"'class'\":\n",
    "        #print(i)\n",
    "        \n",
    "        attribs = []\n",
    "        #attribs.append(tokens[i-1])\n",
    "        if tokens[i-1]!=\"'public'\" or tokens[i-1]==\"'utf-8'\" or tokens[i-1]==\"'\\\\r\\\\n'\":\n",
    "            attribs.append('private')\n",
    "        else:\n",
    "            attribs.append(tokens[i-1])\n",
    "        key = tokens[i+1]\n",
    "        classes.update({key:attribs})\n",
    "\n",
    "print(\"The classes in the code are::\")\n",
    "print(classes)"
   ]
  },
  {
   "cell_type": "code",
   "execution_count": 135,
   "metadata": {},
   "outputs": [
    {
     "name": "stdout",
     "output_type": "stream",
     "text": [
      "The functions in the code are::\n",
      "{\"'parent'\": [\"'void'\"], \"'fibonacci'\": [\"'void'\"], \"'printFibonacci'\": [\"'void'\", \"'static'\"], \"'main'\": [\"'void'\", \"'static'\", \"'public'\"]}\n"
     ]
    }
   ],
   "source": [
    "functions = {}\n",
    "key = ''\n",
    "for i in range (0, len(tokens)):\n",
    "    if tokens[i]==\"'void'\" or tokens[i]==\"'int'\" or tokens[i]==\"'float'\" or tokens[i]==\"'long'\" or tokens[i]==\"'short'\":\n",
    "        if tokens[i+2]==\"'('\":\n",
    "        #print(i)\n",
    "            attribs = []\n",
    "            attribs.append(tokens[i])\n",
    "            if tokens[i-1]==\"'public'\" or tokens[i-1]==\"'static'\":\n",
    "                attribs.append(tokens[i-1])\n",
    "            if tokens[i-2]==\"'public'\" or tokens[i-2]==\"'static'\":\n",
    "                attribs.append(tokens[i-2])\n",
    "            key = tokens[i+1]\n",
    "            functions.update({key:attribs})\n",
    "\n",
    "print(\"The functions in the code are::\")\n",
    "print(functions)"
   ]
  },
  {
   "cell_type": "code",
   "execution_count": 136,
   "metadata": {},
   "outputs": [
    {
     "name": "stdout",
     "output_type": "stream",
     "text": [
      "The variables in the code are::\n",
      "{\"'n1'\": [\"'int'\", \"'static'\", \"'0'\"], \"'n2'\": [\"'1'\", [\"'int'\", \"'static'\"]], \"'n3'\": [\"'0'\", [\"'int'\", \"'static'\"]], \"'count'\": [\"'int'\", \"'10'\"]}\n"
     ]
    }
   ],
   "source": [
    "variables = {}\n",
    "key = ''\n",
    "for i in range (0, len(tokens)):\n",
    "    if tokens[i]==\"'void'\" or tokens[i]==\"'int'\" or tokens[i]==\"'float'\" or tokens[i]==\"'long'\" or tokens[i]==\"'short'\":\n",
    "        if tokens[i+2] != \"'('\":\n",
    "            attribs = []\n",
    "            attr = []\n",
    "            attribs.append(tokens[i])\n",
    "            attr.append(tokens[i])\n",
    "            if tokens[i-1]==\"'public'\" or tokens[i-1]==\"'static'\":\n",
    "                attribs.append(tokens[i-1])\n",
    "                attr.append(tokens[i-1])\n",
    "            if tokens[i-2]==\"'public'\" or tokens[i-2]==\"'static'\":\n",
    "                attribs.append(tokens[i-2])\n",
    "                attr.append(tokens[i-2])\n",
    "            if tokens[i+2]==\"'='\":\n",
    "                attribs.append(tokens[i+3])\n",
    "            key = tokens[i+1]\n",
    "            variables.update({key:attribs})\n",
    "            \n",
    "            def aftercoma(beg):\n",
    "                attribs = []\n",
    "                key = ''\n",
    "                x = beg+1\n",
    "                key = tokens[x]\n",
    "                if tokens[x+1]==\"'='\":\n",
    "                    attribs.append(tokens[x+2])\n",
    "                attribs.append(attr)\n",
    "                variables.update({key:attribs})\n",
    "        \n",
    "            \n",
    "            if tokens[i+2]==\"','\":\n",
    "                x = i+2\n",
    "                aftercoma(x)\n",
    "                word = ''\n",
    "                for y in range(x+1, len(tokens)):\n",
    "                    word = tokens[y]\n",
    "                    if word==\"','\":\n",
    "                        aftercoma(y)\n",
    "                    if word==\"';'\":\n",
    "                        break\n",
    "                \n",
    "                \n",
    "                           \n",
    "            if tokens[i+4]==\"','\":\n",
    "                x = i+4\n",
    "                aftercoma(x)\n",
    "                word = ''\n",
    "                for y in range(x+1, len(tokens)):\n",
    "                    word = tokens[y]\n",
    "                    if word==\"','\":\n",
    "                        aftercoma(y)\n",
    "                    if word==\"';'\":\n",
    "                        break\n",
    "                \n",
    "\n",
    "print(\"The variables in the code are::\")\n",
    "print(variables)"
   ]
  },
  {
   "cell_type": "code",
   "execution_count": 137,
   "metadata": {},
   "outputs": [
    {
     "data": {
      "text/plain": [
       "{\"'parent'\": ['private'],\n",
       " \"'fibonacci'\": ['private'],\n",
       " \"'fibonacci3'\": [\"'public'\"]}"
      ]
     },
     "execution_count": 137,
     "metadata": {},
     "output_type": "execute_result"
    }
   ],
   "source": [
    "classes"
   ]
  },
  {
   "cell_type": "code",
   "execution_count": 138,
   "metadata": {},
   "outputs": [
    {
     "name": "stdout",
     "output_type": "stream",
     "text": [
      "The inheritance relationships are::\n",
      "{\"'fibonacci'\": \"'parent'\"}\n"
     ]
    }
   ],
   "source": [
    "inherits = {}\n",
    "key = ''\n",
    "for i in range (0, len(tokens)):\n",
    "    if tokens[i]==\"'extends'\":\n",
    "        key = tokens[i-1]\n",
    "        val = tokens[i+1]\n",
    "        inherits.update({key:val})\n",
    "print(\"The inheritance relationships are::\")\n",
    "print(inherits)"
   ]
  },
  {
   "cell_type": "code",
   "execution_count": null,
   "metadata": {},
   "outputs": [],
   "source": []
  }
 ],
 "metadata": {
  "kernelspec": {
   "display_name": "Python 3",
   "language": "python",
   "name": "python3"
  },
  "language_info": {
   "codemirror_mode": {
    "name": "ipython",
    "version": 3
   },
   "file_extension": ".py",
   "mimetype": "text/x-python",
   "name": "python",
   "nbconvert_exporter": "python",
   "pygments_lexer": "ipython3",
   "version": "3.8.5"
  }
 },
 "nbformat": 4,
 "nbformat_minor": 2
}
